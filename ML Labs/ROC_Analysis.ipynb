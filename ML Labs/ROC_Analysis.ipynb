{
 "cells": [
  {
   "cell_type": "markdown",
   "id": "b2576cca",
   "metadata": {},
   "source": [
    "# ROC Analysis Assignment\n",
    "### Bianca Caissotti di Chiusano"
   ]
  },
  {
   "cell_type": "code",
   "execution_count": 46,
   "id": "d3eddd7b",
   "metadata": {},
   "outputs": [],
   "source": [
    "import pandas as pd \n",
    "import numpy as np\n",
    "import matplotlib.pyplot as plt\n",
    "\n",
    "from sklearn.model_selection import train_test_split\n",
    "from numpy import trapz\n",
    "from sklearn.neighbors import KNeighborsClassifier\n",
    "from sklearn import metrics"
   ]
  },
  {
   "cell_type": "code",
   "execution_count": 24,
   "id": "5a994af3",
   "metadata": {},
   "outputs": [],
   "source": [
    "# Probabilistic classifier h has been first trained on some labeled training data and tested on test instances\n",
    "# For each test instance x, classifier h outputs posterior probability of positive and negative class "
   ]
  },
  {
   "cell_type": "markdown",
   "id": "4441c6f9",
   "metadata": {},
   "source": [
    "In the ROC class there is the function compute_ROC_coordinates"
   ]
  },
  {
   "cell_type": "markdown",
   "id": "6a4dcaa1",
   "metadata": {},
   "source": [
    "This method first sorts the probabilities of predicting \"tested_positive\" for each test instance x in descending order."
   ]
  },
  {
   "cell_type": "markdown",
   "id": "c8fa940a",
   "metadata": {},
   "source": [
    "With a for loop it is continuously updating a threshold t (like in the example in the slides), which starts from the greatest probability in the sorted probs until the lowest. \n",
    "For every threshold t, test instance with a probability above t we say should actually be tested_positive and everything below should be tested_negative. This is done in the code through the use of a variable called \"truth\".\n",
    "Once the threshold is set, we use another for loop to reiterate among all the test instances from the beginning."
   ]
  },
  {
   "cell_type": "markdown",
   "id": "7989ab91",
   "metadata": {},
   "source": [
    "We check the trueClass to the the actual output if it is tested_positive or tested_negative.\n",
    "For a test instance, if trueClass says tested_positive and the predicted probability in probs for that test instance is above the threshold t, then truth is also tested_positive and we add 1 to the True Positive (tp) counter.\n",
    "Same reasoning but with trueClass saying tested_negative, then we add 1 to the False Positive (fp) counter.\n",
    "We calculate the rates by dividing TP/P and FP/N and add to the coordinates."
   ]
  },
  {
   "cell_type": "code",
   "execution_count": 52,
   "id": "8b5652f6",
   "metadata": {},
   "outputs": [],
   "source": [
    "class ROC():\n",
    "    # parametric constructor accepts Probs(estimated probs of the test instance for pos) and  TrueClass (true class of the test instances)\n",
    "    def __init__(self, probs, trueClass):\n",
    "        self.probs = probs\n",
    "        self.trueClass = trueClass\n",
    "        \n",
    "    def compute_ROC_coordinates(self, probs, trueClass):\n",
    "        # get pos class probs and true class \n",
    "        # compute TPr and FPr coordinates\n",
    "        \n",
    "        # Sort the test instances into decreasing order of the probibility \n",
    "        probs = probs.sort_values(ascending = False)\n",
    "        trueClass = trueClass.reindex(probs.index)\n",
    "        \n",
    "        FPr = []\n",
    "        TPr = []\n",
    "\n",
    "        truth = False\n",
    "        count= trueClass.value_counts()\n",
    "        \n",
    "        # In the beginning everything is either Fnegative or Tnegative\n",
    "        coordinates.append([0, 0])\n",
    "        \n",
    "        # For each consecutive instance x in probs \n",
    "        # Set the threshold value t equal to the probability Ppos of x and compute TPr and FPr of the discrete classifier ht\n",
    "        for i in range(len(probs)):\n",
    "            tp = 0\n",
    "            fp = 0\n",
    "            t = probs.iloc[i]\n",
    "            # under t its negative, above t is positive \n",
    "            for j in range(len(probs)):\n",
    "                if(probs.iloc[j] < t):\n",
    "                    truth = \"tested_negative\"\n",
    "                else:\n",
    "                    truth = \"tested_positive\"\n",
    "                if(trueClass.iloc[j]['class'] == \"tested_positive\" and truth == \"tested_positive\"):\n",
    "                    tp = tp + 1\n",
    "                else:\n",
    "                    if(trueClass.iloc[j]['class'] == \"tested_negative\" and truth == \"tested_positive\"):\n",
    "                        fp = fp + 1\n",
    "            FPr.append(fp/count[\"tested_negative\"])\n",
    "            TPr.append(tp/count[\"tested_positive\"])\n",
    "                  \n",
    "        return TPr, FPr\n",
    "    \n",
    "    def plot_ROC(self, TPr, FPr):\n",
    "        plt.plot(FPr,TPr)\n",
    "        plt.xlabel('fpr')\n",
    "        plt.ylabel('tpr')\n",
    "    \n",
    "    def compute_AUCROC(self, TPr, FPr):\n",
    "        area = metrics.auc(FPr, TPr)\n",
    "        return area\n",
    "        "
   ]
  },
  {
   "cell_type": "code",
   "execution_count": 30,
   "id": "6a5ef970",
   "metadata": {},
   "outputs": [
    {
     "data": {
      "text/html": [
       "<div>\n",
       "<style scoped>\n",
       "    .dataframe tbody tr th:only-of-type {\n",
       "        vertical-align: middle;\n",
       "    }\n",
       "\n",
       "    .dataframe tbody tr th {\n",
       "        vertical-align: top;\n",
       "    }\n",
       "\n",
       "    .dataframe thead th {\n",
       "        text-align: right;\n",
       "    }\n",
       "</style>\n",
       "<table border=\"1\" class=\"dataframe\">\n",
       "  <thead>\n",
       "    <tr style=\"text-align: right;\">\n",
       "      <th></th>\n",
       "      <th>preg</th>\n",
       "      <th>plas</th>\n",
       "      <th>pres</th>\n",
       "      <th>skin</th>\n",
       "      <th>insu</th>\n",
       "      <th>mass</th>\n",
       "      <th>pedi</th>\n",
       "      <th>age</th>\n",
       "      <th>class</th>\n",
       "    </tr>\n",
       "  </thead>\n",
       "  <tbody>\n",
       "    <tr>\n",
       "      <th>0</th>\n",
       "      <td>6</td>\n",
       "      <td>148</td>\n",
       "      <td>72</td>\n",
       "      <td>35</td>\n",
       "      <td>0</td>\n",
       "      <td>33.6</td>\n",
       "      <td>0.627</td>\n",
       "      <td>50</td>\n",
       "      <td>tested_positive</td>\n",
       "    </tr>\n",
       "    <tr>\n",
       "      <th>1</th>\n",
       "      <td>1</td>\n",
       "      <td>85</td>\n",
       "      <td>66</td>\n",
       "      <td>29</td>\n",
       "      <td>0</td>\n",
       "      <td>26.6</td>\n",
       "      <td>0.351</td>\n",
       "      <td>31</td>\n",
       "      <td>tested_negative</td>\n",
       "    </tr>\n",
       "    <tr>\n",
       "      <th>2</th>\n",
       "      <td>8</td>\n",
       "      <td>183</td>\n",
       "      <td>64</td>\n",
       "      <td>0</td>\n",
       "      <td>0</td>\n",
       "      <td>23.3</td>\n",
       "      <td>0.672</td>\n",
       "      <td>32</td>\n",
       "      <td>tested_positive</td>\n",
       "    </tr>\n",
       "    <tr>\n",
       "      <th>3</th>\n",
       "      <td>1</td>\n",
       "      <td>89</td>\n",
       "      <td>66</td>\n",
       "      <td>23</td>\n",
       "      <td>94</td>\n",
       "      <td>28.1</td>\n",
       "      <td>0.167</td>\n",
       "      <td>21</td>\n",
       "      <td>tested_negative</td>\n",
       "    </tr>\n",
       "    <tr>\n",
       "      <th>4</th>\n",
       "      <td>0</td>\n",
       "      <td>137</td>\n",
       "      <td>40</td>\n",
       "      <td>35</td>\n",
       "      <td>168</td>\n",
       "      <td>43.1</td>\n",
       "      <td>2.288</td>\n",
       "      <td>33</td>\n",
       "      <td>tested_positive</td>\n",
       "    </tr>\n",
       "    <tr>\n",
       "      <th>...</th>\n",
       "      <td>...</td>\n",
       "      <td>...</td>\n",
       "      <td>...</td>\n",
       "      <td>...</td>\n",
       "      <td>...</td>\n",
       "      <td>...</td>\n",
       "      <td>...</td>\n",
       "      <td>...</td>\n",
       "      <td>...</td>\n",
       "    </tr>\n",
       "    <tr>\n",
       "      <th>763</th>\n",
       "      <td>10</td>\n",
       "      <td>101</td>\n",
       "      <td>76</td>\n",
       "      <td>48</td>\n",
       "      <td>180</td>\n",
       "      <td>32.9</td>\n",
       "      <td>0.171</td>\n",
       "      <td>63</td>\n",
       "      <td>tested_negative</td>\n",
       "    </tr>\n",
       "    <tr>\n",
       "      <th>764</th>\n",
       "      <td>2</td>\n",
       "      <td>122</td>\n",
       "      <td>70</td>\n",
       "      <td>27</td>\n",
       "      <td>0</td>\n",
       "      <td>36.8</td>\n",
       "      <td>0.340</td>\n",
       "      <td>27</td>\n",
       "      <td>tested_negative</td>\n",
       "    </tr>\n",
       "    <tr>\n",
       "      <th>765</th>\n",
       "      <td>5</td>\n",
       "      <td>121</td>\n",
       "      <td>72</td>\n",
       "      <td>23</td>\n",
       "      <td>112</td>\n",
       "      <td>26.2</td>\n",
       "      <td>0.245</td>\n",
       "      <td>30</td>\n",
       "      <td>tested_negative</td>\n",
       "    </tr>\n",
       "    <tr>\n",
       "      <th>766</th>\n",
       "      <td>1</td>\n",
       "      <td>126</td>\n",
       "      <td>60</td>\n",
       "      <td>0</td>\n",
       "      <td>0</td>\n",
       "      <td>30.1</td>\n",
       "      <td>0.349</td>\n",
       "      <td>47</td>\n",
       "      <td>tested_positive</td>\n",
       "    </tr>\n",
       "    <tr>\n",
       "      <th>767</th>\n",
       "      <td>1</td>\n",
       "      <td>93</td>\n",
       "      <td>70</td>\n",
       "      <td>31</td>\n",
       "      <td>0</td>\n",
       "      <td>30.4</td>\n",
       "      <td>0.315</td>\n",
       "      <td>23</td>\n",
       "      <td>tested_negative</td>\n",
       "    </tr>\n",
       "  </tbody>\n",
       "</table>\n",
       "<p>768 rows × 9 columns</p>\n",
       "</div>"
      ],
      "text/plain": [
       "     preg  plas  pres  skin  insu  mass   pedi  age            class\n",
       "0       6   148    72    35     0  33.6  0.627   50  tested_positive\n",
       "1       1    85    66    29     0  26.6  0.351   31  tested_negative\n",
       "2       8   183    64     0     0  23.3  0.672   32  tested_positive\n",
       "3       1    89    66    23    94  28.1  0.167   21  tested_negative\n",
       "4       0   137    40    35   168  43.1  2.288   33  tested_positive\n",
       "..    ...   ...   ...   ...   ...   ...    ...  ...              ...\n",
       "763    10   101    76    48   180  32.9  0.171   63  tested_negative\n",
       "764     2   122    70    27     0  36.8  0.340   27  tested_negative\n",
       "765     5   121    72    23   112  26.2  0.245   30  tested_negative\n",
       "766     1   126    60     0     0  30.1  0.349   47  tested_positive\n",
       "767     1    93    70    31     0  30.4  0.315   23  tested_negative\n",
       "\n",
       "[768 rows x 9 columns]"
      ]
     },
     "execution_count": 30,
     "metadata": {},
     "output_type": "execute_result"
    }
   ],
   "source": [
    "# Probabilistic classifier KNN with the diabetes dataset \n",
    "data = pd.read_csv(\"diabetes.csv\")\n",
    "data.head()\n",
    "Y = data['class']\n",
    "X = data.drop(['class'],axis=1)\n",
    "data"
   ]
  },
  {
   "cell_type": "markdown",
   "id": "05ea30bf",
   "metadata": {},
   "source": [
    "Splitting the diabetes data set into training and testing data.\n",
    "Using the KNN classifiers with 3-nearest neighbors \n",
    "\n",
    "We define the true class to be the actual output that we know is correct from the data set."
   ]
  },
  {
   "cell_type": "code",
   "execution_count": 31,
   "id": "c629ea35",
   "metadata": {},
   "outputs": [
    {
     "data": {
      "text/html": [
       "<div>\n",
       "<style scoped>\n",
       "    .dataframe tbody tr th:only-of-type {\n",
       "        vertical-align: middle;\n",
       "    }\n",
       "\n",
       "    .dataframe tbody tr th {\n",
       "        vertical-align: top;\n",
       "    }\n",
       "\n",
       "    .dataframe thead th {\n",
       "        text-align: right;\n",
       "    }\n",
       "</style>\n",
       "<table border=\"1\" class=\"dataframe\">\n",
       "  <thead>\n",
       "    <tr style=\"text-align: right;\">\n",
       "      <th></th>\n",
       "      <th>class</th>\n",
       "    </tr>\n",
       "  </thead>\n",
       "  <tbody>\n",
       "    <tr>\n",
       "      <th>0</th>\n",
       "      <td>tested_negative</td>\n",
       "    </tr>\n",
       "    <tr>\n",
       "      <th>1</th>\n",
       "      <td>tested_negative</td>\n",
       "    </tr>\n",
       "    <tr>\n",
       "      <th>2</th>\n",
       "      <td>tested_negative</td>\n",
       "    </tr>\n",
       "    <tr>\n",
       "      <th>3</th>\n",
       "      <td>tested_positive</td>\n",
       "    </tr>\n",
       "    <tr>\n",
       "      <th>4</th>\n",
       "      <td>tested_negative</td>\n",
       "    </tr>\n",
       "    <tr>\n",
       "      <th>...</th>\n",
       "      <td>...</td>\n",
       "    </tr>\n",
       "    <tr>\n",
       "      <th>257</th>\n",
       "      <td>tested_negative</td>\n",
       "    </tr>\n",
       "    <tr>\n",
       "      <th>258</th>\n",
       "      <td>tested_positive</td>\n",
       "    </tr>\n",
       "    <tr>\n",
       "      <th>259</th>\n",
       "      <td>tested_positive</td>\n",
       "    </tr>\n",
       "    <tr>\n",
       "      <th>260</th>\n",
       "      <td>tested_negative</td>\n",
       "    </tr>\n",
       "    <tr>\n",
       "      <th>261</th>\n",
       "      <td>tested_negative</td>\n",
       "    </tr>\n",
       "  </tbody>\n",
       "</table>\n",
       "<p>262 rows × 1 columns</p>\n",
       "</div>"
      ],
      "text/plain": [
       "               class\n",
       "0    tested_negative\n",
       "1    tested_negative\n",
       "2    tested_negative\n",
       "3    tested_positive\n",
       "4    tested_negative\n",
       "..               ...\n",
       "257  tested_negative\n",
       "258  tested_positive\n",
       "259  tested_positive\n",
       "260  tested_negative\n",
       "261  tested_negative\n",
       "\n",
       "[262 rows x 1 columns]"
      ]
     },
     "execution_count": 31,
     "metadata": {},
     "output_type": "execute_result"
    }
   ],
   "source": [
    "X_train, X_test, Y_train, Y_test = train_test_split(X, Y, test_size=0.34, random_state=10)\n",
    "classify = KNeighborsClassifier(n_neighbors=3)\n",
    "classify.fit(X_train, Y_train)\n",
    "\n",
    "trueClass = pd.DataFrame(Y_test).reset_index(drop=True)\n",
    "trueClass"
   ]
  },
  {
   "cell_type": "markdown",
   "id": "5d3139b2",
   "metadata": {},
   "source": [
    "Instead, probs is the prediction probabilities of input test data using the classifier "
   ]
  },
  {
   "cell_type": "code",
   "execution_count": 32,
   "id": "3e329d67",
   "metadata": {},
   "outputs": [
    {
     "data": {
      "text/html": [
       "<div>\n",
       "<style scoped>\n",
       "    .dataframe tbody tr th:only-of-type {\n",
       "        vertical-align: middle;\n",
       "    }\n",
       "\n",
       "    .dataframe tbody tr th {\n",
       "        vertical-align: top;\n",
       "    }\n",
       "\n",
       "    .dataframe thead th {\n",
       "        text-align: right;\n",
       "    }\n",
       "</style>\n",
       "<table border=\"1\" class=\"dataframe\">\n",
       "  <thead>\n",
       "    <tr style=\"text-align: right;\">\n",
       "      <th></th>\n",
       "      <th>0</th>\n",
       "      <th>1</th>\n",
       "    </tr>\n",
       "  </thead>\n",
       "  <tbody>\n",
       "    <tr>\n",
       "      <th>0</th>\n",
       "      <td>0.000000</td>\n",
       "      <td>1.000000</td>\n",
       "    </tr>\n",
       "    <tr>\n",
       "      <th>1</th>\n",
       "      <td>0.666667</td>\n",
       "      <td>0.333333</td>\n",
       "    </tr>\n",
       "    <tr>\n",
       "      <th>2</th>\n",
       "      <td>0.333333</td>\n",
       "      <td>0.666667</td>\n",
       "    </tr>\n",
       "    <tr>\n",
       "      <th>3</th>\n",
       "      <td>1.000000</td>\n",
       "      <td>0.000000</td>\n",
       "    </tr>\n",
       "    <tr>\n",
       "      <th>4</th>\n",
       "      <td>0.333333</td>\n",
       "      <td>0.666667</td>\n",
       "    </tr>\n",
       "    <tr>\n",
       "      <th>...</th>\n",
       "      <td>...</td>\n",
       "      <td>...</td>\n",
       "    </tr>\n",
       "    <tr>\n",
       "      <th>257</th>\n",
       "      <td>1.000000</td>\n",
       "      <td>0.000000</td>\n",
       "    </tr>\n",
       "    <tr>\n",
       "      <th>258</th>\n",
       "      <td>0.000000</td>\n",
       "      <td>1.000000</td>\n",
       "    </tr>\n",
       "    <tr>\n",
       "      <th>259</th>\n",
       "      <td>0.000000</td>\n",
       "      <td>1.000000</td>\n",
       "    </tr>\n",
       "    <tr>\n",
       "      <th>260</th>\n",
       "      <td>1.000000</td>\n",
       "      <td>0.000000</td>\n",
       "    </tr>\n",
       "    <tr>\n",
       "      <th>261</th>\n",
       "      <td>1.000000</td>\n",
       "      <td>0.000000</td>\n",
       "    </tr>\n",
       "  </tbody>\n",
       "</table>\n",
       "<p>262 rows × 2 columns</p>\n",
       "</div>"
      ],
      "text/plain": [
       "            0         1\n",
       "0    0.000000  1.000000\n",
       "1    0.666667  0.333333\n",
       "2    0.333333  0.666667\n",
       "3    1.000000  0.000000\n",
       "4    0.333333  0.666667\n",
       "..        ...       ...\n",
       "257  1.000000  0.000000\n",
       "258  0.000000  1.000000\n",
       "259  0.000000  1.000000\n",
       "260  1.000000  0.000000\n",
       "261  1.000000  0.000000\n",
       "\n",
       "[262 rows x 2 columns]"
      ]
     },
     "execution_count": 32,
     "metadata": {},
     "output_type": "execute_result"
    }
   ],
   "source": [
    "probs = pd.DataFrame(classify.predict_proba(X_test))\n",
    "probs"
   ]
  },
  {
   "cell_type": "markdown",
   "id": "9712333c",
   "metadata": {},
   "source": [
    "We can have a look at these probabilities "
   ]
  },
  {
   "cell_type": "code",
   "execution_count": 33,
   "id": "8ce4ddc8",
   "metadata": {},
   "outputs": [
    {
     "data": {
      "text/plain": [
       "0      1.000000\n",
       "1      0.333333\n",
       "2      0.666667\n",
       "3      0.000000\n",
       "4      0.666667\n",
       "         ...   \n",
       "257    0.000000\n",
       "258    1.000000\n",
       "259    1.000000\n",
       "260    0.000000\n",
       "261    0.000000\n",
       "Name: 1, Length: 262, dtype: float64"
      ]
     },
     "execution_count": 33,
     "metadata": {},
     "output_type": "execute_result"
    }
   ],
   "source": [
    "probs = probs.iloc[:,1] # predicted probabilities of tested positive\n",
    "probs"
   ]
  },
  {
   "cell_type": "markdown",
   "id": "7e73906c",
   "metadata": {},
   "source": [
    "Calling the ROC class and passing as parameters probs and trueClass \n",
    "We then call the method to compute the coordinate that is going to return an X (FPr) and Y(TPr) to plot the ROC curve"
   ]
  },
  {
   "cell_type": "code",
   "execution_count": 53,
   "id": "2c4dd722",
   "metadata": {},
   "outputs": [
    {
     "data": {
      "image/png": "[encoded data removed]",
      "text/plain": [
       "<Figure size 432x288 with 1 Axes>"
      ]
     },
     "metadata": {
      "needs_background": "light"
     },
     "output_type": "display_data"
    }
   ],
   "source": [
    "roc = ROC(probs, trueClass)\n",
    "TPr, FPr = roc.compute_ROC_coordinates(probs, trueClass)\n",
    "roc.plot_ROC(TPr, FPr)"
   ]
  },
  {
   "cell_type": "code",
   "execution_count": 54,
   "id": "c1203982",
   "metadata": {},
   "outputs": [
    {
     "data": {
      "text/plain": [
       "0.7188449848024316"
      ]
     },
     "execution_count": 54,
     "metadata": {},
     "output_type": "execute_result"
    }
   ],
   "source": [
    "roc.compute_AUCROC(TPr, FPr)"
   ]
  },
  {
   "cell_type": "markdown",
   "id": "01dd6db5",
   "metadata": {},
   "source": [
    "Overall ROC is used to understand and analyse the performance of the classifier (in this case the KNN classifier).\n",
    "The area under the curve (AUC) indicates the separation of the classes.\n",
    "According to the readings \"no realistic classifier should have an AUC less then 0.5\". Already from our result we can see that the KNN classifier performed well. \n",
    "A high area means that there is good separation of the classes, thus better performance.\n",
    "From our area result, we have a pretty good separation of classes with our classifier."
   ]
  }
 ],
 "metadata": {
  "kernelspec": {
   "display_name": "Python 3",
   "language": "python",
   "name": "python3"
  },
  "language_info": {
   "codemirror_mode": {
    "name": "ipython",
    "version": 3
   },
   "file_extension": ".py",
   "mimetype": "text/x-python",
   "name": "python",
   "nbconvert_exporter": "python",
   "pygments_lexer": "ipython3",
   "version": "3.8.8"
  }
 },
 "nbformat": 4,
 "nbformat_minor": 5
}
