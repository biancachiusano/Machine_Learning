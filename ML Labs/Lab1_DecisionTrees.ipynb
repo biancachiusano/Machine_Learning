{
 "cells": [
  {
   "cell_type": "markdown",
   "id": "81a5d2fd",
   "metadata": {},
   "source": [
    "# Lab 1 Machine Learning\n",
    "### Bianca Caissotti di Chiusano (i6245461)"
   ]
  },
  {
   "cell_type": "code",
   "execution_count": 59,
   "id": "c7ad2687",
   "metadata": {},
   "outputs": [],
   "source": [
    "import pandas as pd\n",
    "from sklearn import tree\n",
    "from sklearn.metrics import accuracy_score\n",
    "from sklearn.model_selection import train_test_split\n",
    "import matplotlib.pyplot as plt\n",
    "import numpy as np"
   ]
  },
  {
   "cell_type": "markdown",
   "id": "3dc0402a",
   "metadata": {},
   "source": [
    "## Lab Task 4c)\n",
    "We are firstly training decision trees on the diabetes data\n",
    "So we read the CSV file."
   ]
  },
  {
   "cell_type": "code",
   "execution_count": 60,
   "id": "9e23aca3",
   "metadata": {},
   "outputs": [],
   "source": [
    "data = pd.read_csv('diabetes.csv')"
   ]
  },
  {
   "cell_type": "code",
   "execution_count": 61,
   "id": "ccc8d692",
   "metadata": {
    "scrolled": true
   },
   "outputs": [
    {
     "data": {
      "text/html": [
       "<div>\n",
       "<style scoped>\n",
       "    .dataframe tbody tr th:only-of-type {\n",
       "        vertical-align: middle;\n",
       "    }\n",
       "\n",
       "    .dataframe tbody tr th {\n",
       "        vertical-align: top;\n",
       "    }\n",
       "\n",
       "    .dataframe thead th {\n",
       "        text-align: right;\n",
       "    }\n",
       "</style>\n",
       "<table border=\"1\" class=\"dataframe\">\n",
       "  <thead>\n",
       "    <tr style=\"text-align: right;\">\n",
       "      <th></th>\n",
       "      <th>preg</th>\n",
       "      <th>plas</th>\n",
       "      <th>pres</th>\n",
       "      <th>skin</th>\n",
       "      <th>insu</th>\n",
       "      <th>mass</th>\n",
       "      <th>pedi</th>\n",
       "      <th>age</th>\n",
       "      <th>class</th>\n",
       "    </tr>\n",
       "  </thead>\n",
       "  <tbody>\n",
       "    <tr>\n",
       "      <th>0</th>\n",
       "      <td>6</td>\n",
       "      <td>148</td>\n",
       "      <td>72</td>\n",
       "      <td>35</td>\n",
       "      <td>0</td>\n",
       "      <td>33.6</td>\n",
       "      <td>0.627</td>\n",
       "      <td>50</td>\n",
       "      <td>tested_positive</td>\n",
       "    </tr>\n",
       "    <tr>\n",
       "      <th>1</th>\n",
       "      <td>1</td>\n",
       "      <td>85</td>\n",
       "      <td>66</td>\n",
       "      <td>29</td>\n",
       "      <td>0</td>\n",
       "      <td>26.6</td>\n",
       "      <td>0.351</td>\n",
       "      <td>31</td>\n",
       "      <td>tested_negative</td>\n",
       "    </tr>\n",
       "    <tr>\n",
       "      <th>2</th>\n",
       "      <td>8</td>\n",
       "      <td>183</td>\n",
       "      <td>64</td>\n",
       "      <td>0</td>\n",
       "      <td>0</td>\n",
       "      <td>23.3</td>\n",
       "      <td>0.672</td>\n",
       "      <td>32</td>\n",
       "      <td>tested_positive</td>\n",
       "    </tr>\n",
       "    <tr>\n",
       "      <th>3</th>\n",
       "      <td>1</td>\n",
       "      <td>89</td>\n",
       "      <td>66</td>\n",
       "      <td>23</td>\n",
       "      <td>94</td>\n",
       "      <td>28.1</td>\n",
       "      <td>0.167</td>\n",
       "      <td>21</td>\n",
       "      <td>tested_negative</td>\n",
       "    </tr>\n",
       "    <tr>\n",
       "      <th>4</th>\n",
       "      <td>0</td>\n",
       "      <td>137</td>\n",
       "      <td>40</td>\n",
       "      <td>35</td>\n",
       "      <td>168</td>\n",
       "      <td>43.1</td>\n",
       "      <td>2.288</td>\n",
       "      <td>33</td>\n",
       "      <td>tested_positive</td>\n",
       "    </tr>\n",
       "    <tr>\n",
       "      <th>...</th>\n",
       "      <td>...</td>\n",
       "      <td>...</td>\n",
       "      <td>...</td>\n",
       "      <td>...</td>\n",
       "      <td>...</td>\n",
       "      <td>...</td>\n",
       "      <td>...</td>\n",
       "      <td>...</td>\n",
       "      <td>...</td>\n",
       "    </tr>\n",
       "    <tr>\n",
       "      <th>763</th>\n",
       "      <td>10</td>\n",
       "      <td>101</td>\n",
       "      <td>76</td>\n",
       "      <td>48</td>\n",
       "      <td>180</td>\n",
       "      <td>32.9</td>\n",
       "      <td>0.171</td>\n",
       "      <td>63</td>\n",
       "      <td>tested_negative</td>\n",
       "    </tr>\n",
       "    <tr>\n",
       "      <th>764</th>\n",
       "      <td>2</td>\n",
       "      <td>122</td>\n",
       "      <td>70</td>\n",
       "      <td>27</td>\n",
       "      <td>0</td>\n",
       "      <td>36.8</td>\n",
       "      <td>0.340</td>\n",
       "      <td>27</td>\n",
       "      <td>tested_negative</td>\n",
       "    </tr>\n",
       "    <tr>\n",
       "      <th>765</th>\n",
       "      <td>5</td>\n",
       "      <td>121</td>\n",
       "      <td>72</td>\n",
       "      <td>23</td>\n",
       "      <td>112</td>\n",
       "      <td>26.2</td>\n",
       "      <td>0.245</td>\n",
       "      <td>30</td>\n",
       "      <td>tested_negative</td>\n",
       "    </tr>\n",
       "    <tr>\n",
       "      <th>766</th>\n",
       "      <td>1</td>\n",
       "      <td>126</td>\n",
       "      <td>60</td>\n",
       "      <td>0</td>\n",
       "      <td>0</td>\n",
       "      <td>30.1</td>\n",
       "      <td>0.349</td>\n",
       "      <td>47</td>\n",
       "      <td>tested_positive</td>\n",
       "    </tr>\n",
       "    <tr>\n",
       "      <th>767</th>\n",
       "      <td>1</td>\n",
       "      <td>93</td>\n",
       "      <td>70</td>\n",
       "      <td>31</td>\n",
       "      <td>0</td>\n",
       "      <td>30.4</td>\n",
       "      <td>0.315</td>\n",
       "      <td>23</td>\n",
       "      <td>tested_negative</td>\n",
       "    </tr>\n",
       "  </tbody>\n",
       "</table>\n",
       "<p>768 rows × 9 columns</p>\n",
       "</div>"
      ],
      "text/plain": [
       "     preg  plas  pres  skin  insu  mass   pedi  age            class\n",
       "0       6   148    72    35     0  33.6  0.627   50  tested_positive\n",
       "1       1    85    66    29     0  26.6  0.351   31  tested_negative\n",
       "2       8   183    64     0     0  23.3  0.672   32  tested_positive\n",
       "3       1    89    66    23    94  28.1  0.167   21  tested_negative\n",
       "4       0   137    40    35   168  43.1  2.288   33  tested_positive\n",
       "..    ...   ...   ...   ...   ...   ...    ...  ...              ...\n",
       "763    10   101    76    48   180  32.9  0.171   63  tested_negative\n",
       "764     2   122    70    27     0  36.8  0.340   27  tested_negative\n",
       "765     5   121    72    23   112  26.2  0.245   30  tested_negative\n",
       "766     1   126    60     0     0  30.1  0.349   47  tested_positive\n",
       "767     1    93    70    31     0  30.4  0.315   23  tested_negative\n",
       "\n",
       "[768 rows x 9 columns]"
      ]
     },
     "execution_count": 61,
     "metadata": {},
     "output_type": "execute_result"
    }
   ],
   "source": [
    "data"
   ]
  },
  {
   "cell_type": "code",
   "execution_count": 62,
   "id": "9ee42b8e",
   "metadata": {},
   "outputs": [],
   "source": [
    "# output column (Vector) Y\n",
    "Y = data['class']\n",
    "# input matrix X\n",
    "X = data.drop(['class'], axis = 1)"
   ]
  },
  {
   "cell_type": "markdown",
   "id": "21e323af",
   "metadata": {},
   "source": [
    "Starting from the One-Level decision tree: so the max_depth parameter of DecisionTreeClassifier is set to 1. This means that we are only training one layer of the decision tree.\n",
    "We then randomly split the diabetes data into \"training\" and \"test\" data sets. Test_size is 0.34, because it is randomly selecting 66% of rows for training, and the rest for testing. \n",
    "We use this training data to train the classifier. Following that use the trained classifier to predict the output given the same training data (that was used to train). And calculate the accuracy score by comparing the trained output with the just calculated output Yp."
   ]
  },
  {
   "cell_type": "code",
   "execution_count": 63,
   "id": "cfc60cf6",
   "metadata": {},
   "outputs": [
    {
     "name": "stdout",
     "output_type": "stream",
     "text": [
      "0.7648221343873518\n"
     ]
    }
   ],
   "source": [
    "clf = tree.DecisionTreeClassifier(criterion = 'entropy', max_depth = 1)\n",
    "X_train, X_test, Y_train, Y_test = train_test_split(X, Y, test_size = 0.34, random_state=10)\n",
    "clf = clf.fit(X_train,Y_train)\n",
    "Yp = clf.predict(X_train)\n",
    "acc = accuracy_score(Y_train, Yp)\n",
    "print(acc)"
   ]
  },
  {
   "cell_type": "markdown",
   "id": "5a25aa41",
   "metadata": {},
   "source": [
    "Now, more importantly, we want to see how good out trained clf is at predicting output for data that it has never seen, thus the test data."
   ]
  },
  {
   "cell_type": "code",
   "execution_count": 66,
   "id": "6137d37d",
   "metadata": {},
   "outputs": [
    {
     "name": "stdout",
     "output_type": "stream",
     "text": [
      "0.7213740458015268\n"
     ]
    }
   ],
   "source": [
    "# Do the same but for the test data\n",
    "Yp = clf.predict(X_test)\n",
    "acc = accuracy_score(Y_test, Yp)\n",
    "print(acc)"
   ]
  },
  {
   "cell_type": "markdown",
   "id": "839c52d3",
   "metadata": {},
   "source": [
    "We can observe that the two calculated accuracies (for train and test data) are quite similar as we are only training a one-level decision trees.\n",
    "\n",
    "Following, the same exact steps are applied, however this time for a multi-level decision tree, thus setting max_depth to None in our DecisionTreeClassifier."
   ]
  },
  {
   "cell_type": "code",
   "execution_count": 67,
   "id": "0c02f72a",
   "metadata": {},
   "outputs": [
    {
     "name": "stdout",
     "output_type": "stream",
     "text": [
      "1.0\n",
      "0.732824427480916\n"
     ]
    }
   ],
   "source": [
    "# MULTI-LEVEL DECISION TREES\n",
    "clf = tree.DecisionTreeClassifier(criterion = 'entropy', max_depth = None)\n",
    "X_train, X_test, Y_train, Y_test = train_test_split(X, Y, test_size = 0.34, random_state=10)\n",
    "clf = clf.fit(X_train,Y_train)\n",
    "Yp = clf.predict(X_train)\n",
    "acc = accuracy_score(Y_train, Yp)\n",
    "print(acc)\n",
    "Yp = clf.predict(X_test)\n",
    "acc = acc = accuracy_score(Y_test, Yp)\n",
    "print(acc)"
   ]
  },
  {
   "cell_type": "markdown",
   "id": "1646291f",
   "metadata": {},
   "source": [
    "We can now see that our accuracy score when using the training data is 1. This is because of the max_depth is not limited and all possible decisions for the training data can be satisfied. However, the accuracy score when using the test data did not change much, compared to when using one-level trees, because the tree was trained using the training data, thus not all decisions for the test data can be satisfies, even without any limit on the depth of the tree."
   ]
  },
  {
   "cell_type": "markdown",
   "id": "5dbc4f41",
   "metadata": {},
   "source": [
    "#### Training one-level and multi-level decision trees on the glass data\n",
    "Same steps as above are repeated for the data in glass.csv"
   ]
  },
  {
   "cell_type": "code",
   "execution_count": 20,
   "id": "7489d322",
   "metadata": {},
   "outputs": [
    {
     "data": {
      "text/html": [
       "<div>\n",
       "<style scoped>\n",
       "    .dataframe tbody tr th:only-of-type {\n",
       "        vertical-align: middle;\n",
       "    }\n",
       "\n",
       "    .dataframe tbody tr th {\n",
       "        vertical-align: top;\n",
       "    }\n",
       "\n",
       "    .dataframe thead th {\n",
       "        text-align: right;\n",
       "    }\n",
       "</style>\n",
       "<table border=\"1\" class=\"dataframe\">\n",
       "  <thead>\n",
       "    <tr style=\"text-align: right;\">\n",
       "      <th></th>\n",
       "      <th>RI</th>\n",
       "      <th>Na</th>\n",
       "      <th>Mg</th>\n",
       "      <th>Al</th>\n",
       "      <th>Si</th>\n",
       "      <th>K</th>\n",
       "      <th>Ca</th>\n",
       "      <th>Ba</th>\n",
       "      <th>Fe</th>\n",
       "      <th>class</th>\n",
       "    </tr>\n",
       "  </thead>\n",
       "  <tbody>\n",
       "    <tr>\n",
       "      <th>0</th>\n",
       "      <td>1.51793</td>\n",
       "      <td>12.79</td>\n",
       "      <td>3.50</td>\n",
       "      <td>1.12</td>\n",
       "      <td>73.03</td>\n",
       "      <td>0.64</td>\n",
       "      <td>8.77</td>\n",
       "      <td>0.0</td>\n",
       "      <td>0.00</td>\n",
       "      <td>'build wind float'</td>\n",
       "    </tr>\n",
       "    <tr>\n",
       "      <th>1</th>\n",
       "      <td>1.51643</td>\n",
       "      <td>12.16</td>\n",
       "      <td>3.52</td>\n",
       "      <td>1.35</td>\n",
       "      <td>72.89</td>\n",
       "      <td>0.57</td>\n",
       "      <td>8.53</td>\n",
       "      <td>0.0</td>\n",
       "      <td>0.00</td>\n",
       "      <td>'vehic wind float'</td>\n",
       "    </tr>\n",
       "    <tr>\n",
       "      <th>2</th>\n",
       "      <td>1.51793</td>\n",
       "      <td>13.21</td>\n",
       "      <td>3.48</td>\n",
       "      <td>1.41</td>\n",
       "      <td>72.64</td>\n",
       "      <td>0.59</td>\n",
       "      <td>8.43</td>\n",
       "      <td>0.0</td>\n",
       "      <td>0.00</td>\n",
       "      <td>'build wind float'</td>\n",
       "    </tr>\n",
       "    <tr>\n",
       "      <th>3</th>\n",
       "      <td>1.51299</td>\n",
       "      <td>14.40</td>\n",
       "      <td>1.74</td>\n",
       "      <td>1.54</td>\n",
       "      <td>74.55</td>\n",
       "      <td>0.00</td>\n",
       "      <td>7.59</td>\n",
       "      <td>0.0</td>\n",
       "      <td>0.00</td>\n",
       "      <td>tableware</td>\n",
       "    </tr>\n",
       "    <tr>\n",
       "      <th>4</th>\n",
       "      <td>1.53393</td>\n",
       "      <td>12.30</td>\n",
       "      <td>0.00</td>\n",
       "      <td>1.00</td>\n",
       "      <td>70.16</td>\n",
       "      <td>0.12</td>\n",
       "      <td>16.19</td>\n",
       "      <td>0.0</td>\n",
       "      <td>0.24</td>\n",
       "      <td>'build wind non-float'</td>\n",
       "    </tr>\n",
       "    <tr>\n",
       "      <th>...</th>\n",
       "      <td>...</td>\n",
       "      <td>...</td>\n",
       "      <td>...</td>\n",
       "      <td>...</td>\n",
       "      <td>...</td>\n",
       "      <td>...</td>\n",
       "      <td>...</td>\n",
       "      <td>...</td>\n",
       "      <td>...</td>\n",
       "      <td>...</td>\n",
       "    </tr>\n",
       "    <tr>\n",
       "      <th>209</th>\n",
       "      <td>1.51610</td>\n",
       "      <td>13.42</td>\n",
       "      <td>3.40</td>\n",
       "      <td>1.22</td>\n",
       "      <td>72.69</td>\n",
       "      <td>0.59</td>\n",
       "      <td>8.32</td>\n",
       "      <td>0.0</td>\n",
       "      <td>0.00</td>\n",
       "      <td>'vehic wind float'</td>\n",
       "    </tr>\n",
       "    <tr>\n",
       "      <th>210</th>\n",
       "      <td>1.51592</td>\n",
       "      <td>12.86</td>\n",
       "      <td>3.52</td>\n",
       "      <td>2.12</td>\n",
       "      <td>72.66</td>\n",
       "      <td>0.69</td>\n",
       "      <td>7.97</td>\n",
       "      <td>0.0</td>\n",
       "      <td>0.00</td>\n",
       "      <td>'build wind non-float'</td>\n",
       "    </tr>\n",
       "    <tr>\n",
       "      <th>211</th>\n",
       "      <td>1.51613</td>\n",
       "      <td>13.92</td>\n",
       "      <td>3.52</td>\n",
       "      <td>1.25</td>\n",
       "      <td>72.88</td>\n",
       "      <td>0.37</td>\n",
       "      <td>7.94</td>\n",
       "      <td>0.0</td>\n",
       "      <td>0.14</td>\n",
       "      <td>'build wind non-float'</td>\n",
       "    </tr>\n",
       "    <tr>\n",
       "      <th>212</th>\n",
       "      <td>1.51689</td>\n",
       "      <td>12.67</td>\n",
       "      <td>2.88</td>\n",
       "      <td>1.71</td>\n",
       "      <td>73.21</td>\n",
       "      <td>0.73</td>\n",
       "      <td>8.54</td>\n",
       "      <td>0.0</td>\n",
       "      <td>0.00</td>\n",
       "      <td>'build wind non-float'</td>\n",
       "    </tr>\n",
       "    <tr>\n",
       "      <th>213</th>\n",
       "      <td>1.51852</td>\n",
       "      <td>14.09</td>\n",
       "      <td>2.19</td>\n",
       "      <td>1.66</td>\n",
       "      <td>72.67</td>\n",
       "      <td>0.00</td>\n",
       "      <td>9.32</td>\n",
       "      <td>0.0</td>\n",
       "      <td>0.00</td>\n",
       "      <td>tableware</td>\n",
       "    </tr>\n",
       "  </tbody>\n",
       "</table>\n",
       "<p>214 rows × 10 columns</p>\n",
       "</div>"
      ],
      "text/plain": [
       "          RI     Na    Mg    Al     Si     K     Ca   Ba    Fe  \\\n",
       "0    1.51793  12.79  3.50  1.12  73.03  0.64   8.77  0.0  0.00   \n",
       "1    1.51643  12.16  3.52  1.35  72.89  0.57   8.53  0.0  0.00   \n",
       "2    1.51793  13.21  3.48  1.41  72.64  0.59   8.43  0.0  0.00   \n",
       "3    1.51299  14.40  1.74  1.54  74.55  0.00   7.59  0.0  0.00   \n",
       "4    1.53393  12.30  0.00  1.00  70.16  0.12  16.19  0.0  0.24   \n",
       "..       ...    ...   ...   ...    ...   ...    ...  ...   ...   \n",
       "209  1.51610  13.42  3.40  1.22  72.69  0.59   8.32  0.0  0.00   \n",
       "210  1.51592  12.86  3.52  2.12  72.66  0.69   7.97  0.0  0.00   \n",
       "211  1.51613  13.92  3.52  1.25  72.88  0.37   7.94  0.0  0.14   \n",
       "212  1.51689  12.67  2.88  1.71  73.21  0.73   8.54  0.0  0.00   \n",
       "213  1.51852  14.09  2.19  1.66  72.67  0.00   9.32  0.0  0.00   \n",
       "\n",
       "                      class  \n",
       "0        'build wind float'  \n",
       "1        'vehic wind float'  \n",
       "2        'build wind float'  \n",
       "3                 tableware  \n",
       "4    'build wind non-float'  \n",
       "..                      ...  \n",
       "209      'vehic wind float'  \n",
       "210  'build wind non-float'  \n",
       "211  'build wind non-float'  \n",
       "212  'build wind non-float'  \n",
       "213               tableware  \n",
       "\n",
       "[214 rows x 10 columns]"
      ]
     },
     "execution_count": 20,
     "metadata": {},
     "output_type": "execute_result"
    }
   ],
   "source": [
    "glass_data = pd.read_csv('glass.csv')\n",
    "glass_data"
   ]
  },
  {
   "cell_type": "code",
   "execution_count": 23,
   "id": "6465c71d",
   "metadata": {},
   "outputs": [
    {
     "name": "stdout",
     "output_type": "stream",
     "text": [
      "0.46099290780141844\n"
     ]
    }
   ],
   "source": [
    "Y_glass = glass_data['class']\n",
    "X_glass = glass_data.drop(['class'], axis = 1)\n",
    "\n",
    "clf_glass = tree.DecisionTreeClassifier(criterion = 'entropy', max_depth = 1)\n",
    "X_train, X_test, Y_train, Y_test = train_test_split(X_glass, Y_glass, test_size = 0.34, random_state=10)\n",
    "\n",
    "# Accuracy Score Training data\n",
    "clf_glass = clf_glass.fit(X_train,Y_train)\n",
    "Yp = clf_glass.predict(X_train)\n",
    "acc = accuracy_score(Y_train, Yp)\n",
    "print(acc)"
   ]
  },
  {
   "cell_type": "code",
   "execution_count": 24,
   "id": "262ef237",
   "metadata": {},
   "outputs": [
    {
     "name": "stdout",
     "output_type": "stream",
     "text": [
      "0.4246575342465753\n"
     ]
    }
   ],
   "source": [
    "# Accuracy Score Test data\n",
    "Yp = clf_glass.predict(X_test)\n",
    "acc = accuracy_score(Y_test, Yp)\n",
    "print(acc)"
   ]
  },
  {
   "cell_type": "code",
   "execution_count": 51,
   "id": "89f7db8b",
   "metadata": {},
   "outputs": [
    {
     "name": "stdout",
     "output_type": "stream",
     "text": [
      "1.0\n"
     ]
    }
   ],
   "source": [
    "# Multi-Level\n",
    "clf_glass = tree.DecisionTreeClassifier(criterion = 'entropy', max_depth = None)\n",
    "X_train, X_test, Y_train, Y_test = train_test_split(X_glass, Y_glass, test_size = 0.34, random_state=10)\n",
    "clf_glass = clf_glass.fit(X_train,Y_train)\n",
    "Yp = clf_glass.predict(X_train)\n",
    "# Accuracy Score Training data\n",
    "acc = accuracy_score(Y_train, Yp)\n",
    "print(acc)"
   ]
  },
  {
   "cell_type": "code",
   "execution_count": 52,
   "id": "ef657f4f",
   "metadata": {},
   "outputs": [
    {
     "name": "stdout",
     "output_type": "stream",
     "text": [
      "0.5616438356164384\n"
     ]
    }
   ],
   "source": [
    "# Accuracy Score Test data\n",
    "Yp = clf_glass.predict(X_test)\n",
    "acc = acc = accuracy_score(Y_test, Yp)\n",
    "print(acc)"
   ]
  },
  {
   "cell_type": "markdown",
   "id": "d26afbfd",
   "metadata": {},
   "source": [
    "## Lab Tasks 4d)\n",
    "\n",
    "For Task 4d:\n",
    "Estimate the accuracy rates of the resulting decision trees using the training set and hold-out validation. \n",
    "Plot the accuracy rates based on the training set and hold-out validation for min_samples_leaf from 1 to the size of the datasets with step of 5"
   ]
  },
  {
   "cell_type": "code",
   "execution_count": 45,
   "id": "1be1590b",
   "metadata": {},
   "outputs": [],
   "source": [
    "# Arrays to store Accuracy scores at each time step for both data sets\n",
    "acc_train_diabetes = []\n",
    "acc_test_diabetes = []\n",
    "\n",
    "acc_train_glass = []\n",
    "acc_test_glass = []\n",
    "\n",
    "# Function I called estimate. The decision tree is multi level. And the min_sample leaf depends on the time step\n",
    "def estimate(X_train, X_test, Y_train, Y_test, num_leafs, acc_train, acc_test):\n",
    "    clf = tree.DecisionTreeClassifier(criterion = 'entropy', max_depth = None, min_samples_leaf = num_leafs)\n",
    "    clf = clf.fit(X_train,Y_train)\n",
    "    \n",
    "    Yp = clf.predict(X_train)\n",
    "    acc = accuracy_score(Y_train, Yp)\n",
    "    acc_train.append(acc)\n",
    "    \n",
    "    Yp = clf.predict(X_test)\n",
    "    acc = accuracy_score(Y_test, Yp)\n",
    "    acc_test.append(acc)\n",
    "\n",
    "    \n",
    "X_train, X_test, Y_train, Y_test = train_test_split(X, Y, test_size = 0.34, random_state=10)\n",
    "X_train_glass, X_test_glass, Y_train_glass, Y_test_glass = train_test_split(X_glass, Y_glass, test_size = 0.34, random_state=10)\n",
    "\n",
    "for i in range(1,data.shape[0]):\n",
    "    estimate(X_train, X_test, Y_train, Y_test, i, acc_train_diabetes, acc_test_diabetes)\n",
    "    i += 5\n",
    "\n",
    "for i in range(1,glass_data.shape[0]):\n",
    "    estimate(X_train_glass, X_test_glass, Y_train_glass, Y_test_glass, i, acc_train_glass, acc_test_glass)\n",
    "    i += 5   \n"
   ]
  },
  {
   "cell_type": "markdown",
   "id": "0b13ea4f",
   "metadata": {},
   "source": [
    "For both datasets, at each time step we call the estimate function. The min_sample_leaf changes from 1 to the size of the dataset with a time step of 5. Every accuracy score is appended to the array which is then plotted."
   ]
  },
  {
   "cell_type": "code",
   "execution_count": 46,
   "id": "51fb12d5",
   "metadata": {},
   "outputs": [
    {
     "data": {
      "image/png": "[encoded data removed]",
      "text/plain": [
       "<Figure size 432x288 with 1 Axes>"
      ]
     },
     "metadata": {
      "needs_background": "light"
     },
     "output_type": "display_data"
    }
   ],
   "source": [
    "# x axis is the time step\n",
    "# y axis is the accuracy\n",
    "plt.title(\"Train and Test Accuracy Diabetes\")\n",
    "plt.ylabel(\"Accuracy\")\n",
    "plt.xlabel(\"Time Step\")\n",
    "plt.plot(acc_train_diabetes, label = \"Train\")\n",
    "plt.plot(acc_test_diabetes, label = \"Test\")\n",
    "plt.legend(loc = 'upper center')\n",
    "plt.show()"
   ]
  },
  {
   "cell_type": "code",
   "execution_count": 53,
   "id": "e5a66b76",
   "metadata": {},
   "outputs": [
    {
     "data": {
      "image/png": "[encoded data removed]",
      "text/plain": [
       "<Figure size 432x288 with 1 Axes>"
      ]
     },
     "metadata": {
      "needs_background": "light"
     },
     "output_type": "display_data"
    }
   ],
   "source": [
    "plt.title(\"Train and Test Accuracy Glass\")\n",
    "plt.ylabel(\"Accuracy\")\n",
    "plt.xlabel(\"Time Step\")\n",
    "plt.plot(acc_train_glass, label = \"Train\")\n",
    "plt.plot(acc_test_glass, label = \"Test\")\n",
    "plt.legend(loc = 'upper center')\n",
    "plt.show()"
   ]
  },
  {
   "cell_type": "markdown",
   "id": "56dcd6f6",
   "metadata": {},
   "source": [
    "In both graphs, we can observe that at the beginning the training data is predicted with a greater accuracy than with the testing data, because the min_sample_leafs is small but we are still working with a multi-level tree. However as the min_sample_leafs increases than the accuracy of the training data also decreases. "
   ]
  }
 ],
 "metadata": {
  "kernelspec": {
   "display_name": "Python 3",
   "language": "python",
   "name": "python3"
  },
  "language_info": {
   "codemirror_mode": {
    "name": "ipython",
    "version": 3
   },
   "file_extension": ".py",
   "mimetype": "text/x-python",
   "name": "python",
   "nbconvert_exporter": "python",
   "pygments_lexer": "ipython3",
   "version": "3.8.8"
  }
 },
 "nbformat": 4,
 "nbformat_minor": 5
}
